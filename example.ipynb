{
  "nbformat": 4,
  "nbformat_minor": 0,
  "metadata": {
    "colab": {
      "provenance": [],
      "authorship_tag": "ABX9TyO1IdwHG2crCH6yBfWBloku",
      "include_colab_link": true
    },
    "kernelspec": {
      "name": "python3",
      "display_name": "Python 3"
    },
    "language_info": {
      "name": "python"
    }
  },
  "cells": [
    {
      "cell_type": "markdown",
      "metadata": {
        "id": "view-in-github",
        "colab_type": "text"
      },
      "source": [
        "<a href=\"https://colab.research.google.com/github/arsanchai-su/microplastic-detection/blob/main/example.ipynb\" target=\"_parent\"><img src=\"https://colab.research.google.com/assets/colab-badge.svg\" alt=\"Open In Colab\"/></a>"
      ]
    },
    {
      "cell_type": "code",
      "execution_count": null,
      "metadata": {
        "id": "OhBtrudQxlmZ"
      },
      "outputs": [],
      "source": [
        "!pip install ultralytics"
      ]
    },
    {
      "cell_type": "code",
      "source": [
        "#This command for download our train weigth\n",
        "!gdown --id 1BYL4DpHEJiMvSMfrLL_0S1VcbEUrgVdS"
      ],
      "metadata": {
        "id": "j931VJo9yJ0a"
      },
      "execution_count": null,
      "outputs": []
    },
    {
      "cell_type": "code",
      "source": [
        "#Download example image\n",
        "!wget https://raw.githubusercontent.com/arsanchai-su/microplastic-detection/main/example1.png"
      ],
      "metadata": {
        "id": "bw56lfud22J4"
      },
      "execution_count": null,
      "outputs": []
    },
    {
      "cell_type": "code",
      "source": [
        "#Inferance example\n",
        "from PIL import Image\n",
        "from ultralytics import YOLO\n",
        "from IPython.display import display\n",
        "\n",
        "# Load a pretrained YOLOv8n model\n",
        "model = YOLO('/content/microplastic-detection-yolo8m.pt')\n",
        "\n",
        "# Run inference on 'bus.jpg'\n",
        "results = model('/content/example1.png')  # results list\n",
        "\n",
        "# Show the results\n",
        "for i, r in enumerate(results):\n",
        "    im_array = r.plot()  # plot a BGR numpy array of predictions\n",
        "    im = Image.fromarray(im_array)  # RGB PIL image\n",
        "    display(im)  # show image\n",
        "    im.save(f'results.jpg')  # save image with a unique name"
      ],
      "metadata": {
        "id": "VWTZetgDzIrr"
      },
      "execution_count": null,
      "outputs": []
    }
  ]
}